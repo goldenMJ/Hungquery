{
 "cells": [
  {
   "cell_type": "code",
   "execution_count": 264,
   "metadata": {},
   "outputs": [],
   "source": [
    "from splinter import Browser\n",
    "from splinter.exceptions import ElementDoesNotExist\n",
    "from bs4 import BeautifulSoup\n",
    "import requests\n",
    "import time"
   ]
  },
  {
   "cell_type": "code",
   "execution_count": 265,
   "metadata": {},
   "outputs": [
    {
     "name": "stdout",
     "output_type": "stream",
     "text": [
      "/usr/local/bin/chromedriver\r\n"
     ]
    }
   ],
   "source": [
    "# https://splinter.readthedocs.io/en/latest/drivers/chrome.html\n",
    "!which chromedriver"
   ]
  },
  {
   "cell_type": "code",
   "execution_count": 266,
   "metadata": {},
   "outputs": [],
   "source": [
    "executable_path = {'executable_path': '/usr/local/bin/chromedriver'}\n",
    "browser = Browser('chrome', **executable_path, headless=False)\n"
   ]
  },
  {
   "cell_type": "code",
   "execution_count": 267,
   "metadata": {},
   "outputs": [],
   "source": [
    "ur = []\n",
    "all_title = []\n",
    "all_url = []\n",
    "#remove min\n",
    "all_time = []\n",
    "all_type = []\n",
    "all_sum = []\n",
    "\n",
    "# page_code = [\"page/1/\", \"page/2/\", \"page/3/\", \"page/4/\"]\n",
    "# for page in page_code:\n",
    "#     page_url = ('https://www.simplyrecipes.com/recipes/type/quick/dinner/')\n",
    "#     page_url_1 = (page_url + page)\n",
    "for i in range(12):\n",
    "    url = 'https://www.simplyrecipes.com/recipes/course/breakfast_and_brunch/page/'+str(i)+'/'\n",
    "#     print(url)\n",
    "    browser.visit(url)\n",
    "    html = browser.html\n",
    "    soup = BeautifulSoup(html, 'html.parser')\n",
    "    title_results = soup.find_all(\"div\", {\"class\": \"grd-tile-detail\"})\n",
    "\n",
    "\n",
    "    for result in title_results:\n",
    "        title = result.find('h2').text\n",
    "        try:\n",
    "            time = result.find('span', class_=\"sum-item sum-cook-time\").text\n",
    "        except:\n",
    "            time = \"\"\n",
    "\n",
    "\n",
    "        url = result.find('a')['href']\n",
    "\n",
    "        try:\n",
    "            typ = result.find('span', class_=\"sum-item sum-food-type\").text\n",
    "        except: \n",
    "            typ = \"\"\n",
    "        sumz = result.find('div', class_=\"grd-recipe-excerpt\").text\n",
    "\n",
    "        all_title.append(title)\n",
    "        all_time.append(time)\n",
    "        all_url.append(url)\n",
    "        all_type.append(typ)\n",
    "        all_sum.append(sumz)\n"
   ]
  },
  {
   "cell_type": "code",
   "execution_count": 211,
   "metadata": {},
   "outputs": [
    {
     "name": "stdout",
     "output_type": "stream",
     "text": [
      "269\n"
     ]
    }
   ],
   "source": [
    "#checking number ogf recipes\n",
    "#print(len(all_title))\n"
   ]
  },
  {
   "cell_type": "code",
   "execution_count": 268,
   "metadata": {},
   "outputs": [],
   "source": [
    "# create csv writer variable writer=csv.writer(filename, w+)\n",
    "# writer = csv.writer(open(\"dinner.csv\", \"w+\"))\n",
    "f = open(\"break.csv\", \"a\")\n",
    "\n",
    "for i in range(len(all_title)):\n",
    "    #row = [all_title[i], all_time[i], all_url[i], all_type[i], all_sum[i]]\n",
    "    f.write(\"\\\"\"+all_title[i]+\"\\\",\\\"\"+all_time[i]+\"\\\",\\\"\"+all_url[i]+\"\\\",\\\"\"+all_type[i]+\"\\\",\\\"\"+all_sum[i].strip()+\"\\\"\\n\")\n",
    "    #print(row)\n",
    "    \n",
    "f.close()"
   ]
  },
  {
   "cell_type": "code",
   "execution_count": null,
   "metadata": {},
   "outputs": [],
   "source": [
    "#for first scrape use \n",
    "#f = open(\"dinner3.csv\", \"a\")"
   ]
  },
  {
   "cell_type": "code",
   "execution_count": null,
   "metadata": {},
   "outputs": [],
   "source": []
  }
 ],
 "metadata": {
  "kernelspec": {
   "display_name": "Python 3",
   "language": "python",
   "name": "python3"
  },
  "language_info": {
   "codemirror_mode": {
    "name": "ipython",
    "version": 3
   },
   "file_extension": ".py",
   "mimetype": "text/x-python",
   "name": "python",
   "nbconvert_exporter": "python",
   "pygments_lexer": "ipython3",
   "version": "3.7.3"
  }
 },
 "nbformat": 4,
 "nbformat_minor": 2
}
